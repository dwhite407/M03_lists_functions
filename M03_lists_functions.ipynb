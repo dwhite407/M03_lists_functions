{
 "cells": [
  {
   "cell_type": "code",
   "execution_count": 43,
   "id": "c3a4928d-ce6f-4679-bed3-baa987ef8581",
   "metadata": {},
   "outputs": [
    {
     "name": "stdout",
     "output_type": "stream",
     "text": [
      "['mozzarella', 'cinderella', 'salmonella']\n"
     ]
    }
   ],
   "source": [
    "#7.4\n",
    "things =[\"mozzarella\", \"cinderella\", \"salmonella\"]\n",
    "print(things)"
   ]
  },
  {
   "cell_type": "code",
   "execution_count": 45,
   "id": "2dc59a8b-ca5b-4264-99c9-cb44a97f999e",
   "metadata": {},
   "outputs": [
    {
     "name": "stdout",
     "output_type": "stream",
     "text": [
      "['mozzarella', 'Cinderella', 'salmonella']\n"
     ]
    }
   ],
   "source": [
    "#7.5\n",
    "things[1] = things[1].capitalize()\n",
    "print(things)"
   ]
  },
  {
   "cell_type": "markdown",
   "id": "ee380480-11f6-442d-9d84-566f4c5b7ddb",
   "metadata": {},
   "source": [
    "7.5: Yes it changed the item in the list, now the word Cinderella\n",
    "     is capitalized. "
   ]
  },
  {
   "cell_type": "code",
   "execution_count": 47,
   "id": "05cdf2f1-23f5-4691-b869-bbb55a4b2ece",
   "metadata": {},
   "outputs": [
    {
     "name": "stdout",
     "output_type": "stream",
     "text": [
      "['MOZZARELLA', 'Cinderella', 'salmonella']\n"
     ]
    }
   ],
   "source": [
    "#7.6\n",
    "things[0] = things[0].upper()\n",
    "print(things)"
   ]
  },
  {
   "cell_type": "code",
   "execution_count": 51,
   "id": "88351b78-db73-4d7a-bf19-5b8927372348",
   "metadata": {},
   "outputs": [
    {
     "name": "stdout",
     "output_type": "stream",
     "text": [
      "['MOZZARELLA', 'Cinderella']\n"
     ]
    }
   ],
   "source": [
    "#7.7\n",
    "things.remove(\"salmonella\")\n",
    "print(things)\n",
    "\n",
    "'''could also do it this way\n",
    "\n",
    "things.pop()\n",
    "print(things)\n",
    "\n",
    "however this could only be run once, and is only convenient\n",
    "in this case due to salmonella being the last in the list\n",
    "'''"
   ]
  },
  {
   "cell_type": "code",
   "execution_count": 55,
   "id": "8f2e3112-a5b5-475d-95fb-1796ba7e10a8",
   "metadata": {},
   "outputs": [
    {
     "data": {
      "text/plain": [
       "['Harry', 'ron', 'Hermione']"
      ]
     },
     "execution_count": 55,
     "metadata": {},
     "output_type": "execute_result"
    }
   ],
   "source": [
    "#9.1\n",
    "def good():\n",
    "    return ['Harry','ron','Hermione']\n",
    "good()"
   ]
  },
  {
   "cell_type": "code",
   "execution_count": 80,
   "id": "67cd0231-16ad-4f7a-b49a-82e4e371ecbc",
   "metadata": {},
   "outputs": [
    {
     "name": "stdout",
     "output_type": "stream",
     "text": [
      "5\n"
     ]
    }
   ],
   "source": [
    "#9.2\n",
    "def get_odds():\n",
    "    for x in range(10):\n",
    "        if x%2==0:  #checks if the number is odd, continues if even\n",
    "            continue\n",
    "        else:\n",
    "            yield(x) #stores the value if it is odd, making it generative\n",
    "\n",
    "odds = get_odds()\n",
    "index = 0\n",
    "\n",
    "for number in odds: #cycles through the index to find the third value\n",
    "    index+=1\n",
    "    if index == 3:\n",
    "        print(number)"
   ]
  }
 ],
 "metadata": {
  "kernelspec": {
   "display_name": "anaconda-panel-2023.05-py310",
   "language": "python",
   "name": "conda-env-anaconda-panel-2023.05-py310-py"
  },
  "language_info": {
   "codemirror_mode": {
    "name": "ipython",
    "version": 3
   },
   "file_extension": ".py",
   "mimetype": "text/x-python",
   "name": "python",
   "nbconvert_exporter": "python",
   "pygments_lexer": "ipython3",
   "version": "3.11.5"
  }
 },
 "nbformat": 4,
 "nbformat_minor": 5
}
